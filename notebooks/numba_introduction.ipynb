{
 "cells": [
  {
   "cell_type": "code",
   "execution_count": null,
   "id": "81c6ce13",
   "metadata": {},
   "outputs": [
    {
     "name": "stdout",
     "output_type": "stream",
     "text": [
      "Collecting numpy==1.19\n",
      "  Downloading numpy-1.19.0-cp38-cp38-manylinux2010_x86_64.whl (14.6 MB)\n",
      "\u001b[K     |████████████████████████████████| 14.6 MB 2.3 MB/s eta 0:00:01\n",
      "\u001b[?25hInstalling collected packages: numpy\n",
      "  Attempting uninstall: numpy\n",
      "    Found existing installation: numpy 1.20.0\n",
      "    Uninstalling numpy-1.20.0:\n",
      "      Successfully uninstalled numpy-1.20.0\n"
     ]
    }
   ],
   "source": [
    "!pip install numpy==1.19"
   ]
  },
  {
   "cell_type": "code",
   "execution_count": 26,
   "id": "a4bb1f1b",
   "metadata": {},
   "outputs": [],
   "source": [
    "from numba import jit, njit, vectorize\n",
    "import numpy as np"
   ]
  },
  {
   "cell_type": "code",
   "execution_count": 15,
   "id": "4acc0c38",
   "metadata": {},
   "outputs": [],
   "source": [
    "def original_function(input_list):\n",
    "    output_list = []\n",
    "    for item in input_list:\n",
    "        if item % 2 == 0:\n",
    "            output_list.append(2)\n",
    "        else:\n",
    "            output_list.append(\"1\")\n",
    "    return output_list"
   ]
  },
  {
   "cell_type": "code",
   "execution_count": 16,
   "id": "7df58bf2",
   "metadata": {},
   "outputs": [],
   "source": [
    "test_array = list(range(100000))"
   ]
  },
  {
   "cell_type": "code",
   "execution_count": 17,
   "id": "7f14eb7b",
   "metadata": {},
   "outputs": [
    {
     "name": "stdout",
     "output_type": "stream",
     "text": [
      "CPU times: user 9.41 ms, sys: 0 ns, total: 9.41 ms\n",
      "Wall time: 9 ms\n"
     ]
    }
   ],
   "source": [
    "%time _ = original_function(test_array)"
   ]
  },
  {
   "cell_type": "code",
   "execution_count": 18,
   "id": "01312a7e",
   "metadata": {},
   "outputs": [
    {
     "name": "stderr",
     "output_type": "stream",
     "text": [
      "/tmp/ipykernel_1431/296268483.py:1: NumbaWarning: \n",
      "Compilation is falling back to object mode WITH looplifting enabled because Function \"original_function\" failed type inference due to: Invalid use of BoundFunction(list.append for list(int64)<iv=None>) with parameters (Literal[str](1))\n",
      "\n",
      "During: resolving callee type: BoundFunction(list.append for list(int64)<iv=None>)\n",
      "During: typing of call at /tmp/ipykernel_1431/296268483.py (7)\n",
      "\n",
      "\n",
      "File \"../../../../../../../../tmp/ipykernel_1431/296268483.py\", line 7:\n",
      "<source missing, REPL/exec in use?>\n",
      "\n",
      "  def original_function(input_list):\n",
      "/tmp/ipykernel_1431/296268483.py:1: NumbaWarning: \n",
      "Compilation is falling back to object mode WITHOUT looplifting enabled because Function \"original_function\" failed type inference due to: Cannot determine Numba type of <class 'numba.core.dispatcher.LiftedLoop'>\n",
      "\n",
      "File \"../../../../../../../../tmp/ipykernel_1431/296268483.py\", line 3:\n",
      "<source missing, REPL/exec in use?>\n",
      "\n",
      "  def original_function(input_list):\n",
      "/mnt/c/Users/HenkvandenBrink/repos/TEST-HOME-repos/python-hpc-introduction/.venv/lib/python3.8/site-packages/numba/core/object_mode_passes.py:151: NumbaWarning: Function \"original_function\" was compiled in object mode without forceobj=True, but has lifted loops.\n",
      "\n",
      "File \"../../../../../../../../tmp/ipykernel_1431/296268483.py\", line 2:\n",
      "<source missing, REPL/exec in use?>\n",
      "\n",
      "  warnings.warn(errors.NumbaWarning(warn_msg,\n",
      "/mnt/c/Users/HenkvandenBrink/repos/TEST-HOME-repos/python-hpc-introduction/.venv/lib/python3.8/site-packages/numba/core/object_mode_passes.py:161: NumbaDeprecationWarning: \n",
      "Fall-back from the nopython compilation path to the object mode compilation path has been detected, this is deprecated behaviour.\n",
      "\n",
      "For more information visit https://numba.pydata.org/numba-doc/latest/reference/deprecation.html#deprecation-of-object-mode-fall-back-behaviour-when-using-jit\n",
      "\n",
      "File \"../../../../../../../../tmp/ipykernel_1431/296268483.py\", line 2:\n",
      "<source missing, REPL/exec in use?>\n",
      "\n",
      "  warnings.warn(errors.NumbaDeprecationWarning(msg,\n",
      "/tmp/ipykernel_1431/296268483.py:1: NumbaWarning: \n",
      "Compilation is falling back to object mode WITHOUT looplifting enabled because Function \"original_function\" failed type inference due to: non-precise type pyobject\n",
      "During: typing of argument at /tmp/ipykernel_1431/296268483.py (3)\n",
      "\n",
      "File \"../../../../../../../../tmp/ipykernel_1431/296268483.py\", line 3:\n",
      "<source missing, REPL/exec in use?>\n",
      "\n",
      "  def original_function(input_list):\n",
      "/mnt/c/Users/HenkvandenBrink/repos/TEST-HOME-repos/python-hpc-introduction/.venv/lib/python3.8/site-packages/numba/core/object_mode_passes.py:151: NumbaWarning: Function \"original_function\" was compiled in object mode without forceobj=True.\n",
      "\n",
      "File \"../../../../../../../../tmp/ipykernel_1431/296268483.py\", line 3:\n",
      "<source missing, REPL/exec in use?>\n",
      "\n",
      "  warnings.warn(errors.NumbaWarning(warn_msg,\n",
      "/mnt/c/Users/HenkvandenBrink/repos/TEST-HOME-repos/python-hpc-introduction/.venv/lib/python3.8/site-packages/numba/core/object_mode_passes.py:161: NumbaDeprecationWarning: \n",
      "Fall-back from the nopython compilation path to the object mode compilation path has been detected, this is deprecated behaviour.\n",
      "\n",
      "For more information visit https://numba.pydata.org/numba-doc/latest/reference/deprecation.html#deprecation-of-object-mode-fall-back-behaviour-when-using-jit\n",
      "\n",
      "File \"../../../../../../../../tmp/ipykernel_1431/296268483.py\", line 3:\n",
      "<source missing, REPL/exec in use?>\n",
      "\n",
      "  warnings.warn(errors.NumbaDeprecationWarning(msg,\n"
     ]
    },
    {
     "name": "stdout",
     "output_type": "stream",
     "text": [
      "CPU times: user 306 ms, sys: 0 ns, total: 306 ms\n",
      "Wall time: 322 ms\n"
     ]
    }
   ],
   "source": [
    "jitted_function = jit()(original_function)\n",
    "%time _ = jitted_function(test_array)"
   ]
  },
  {
   "cell_type": "code",
   "execution_count": 19,
   "id": "c359a84c",
   "metadata": {},
   "outputs": [
    {
     "ename": "TypingError",
     "evalue": "Failed in nopython mode pipeline (step: nopython frontend)\nInvalid use of BoundFunction(list.append for list(int64)<iv=None>) with parameters (Literal[str](1))\n\nDuring: resolving callee type: BoundFunction(list.append for list(int64)<iv=None>)\nDuring: typing of call at /tmp/ipykernel_1431/296268483.py (7)\n\n\nFile \"../../../../../../../../tmp/ipykernel_1431/296268483.py\", line 7:\n<source missing, REPL/exec in use?>\n",
     "output_type": "error",
     "traceback": [
      "\u001b[0;31m---------------------------------------------------------------------------\u001b[0m",
      "\u001b[0;31mTypingError\u001b[0m                               Traceback (most recent call last)",
      "\u001b[0;32m<timed exec>\u001b[0m in \u001b[0;36m<module>\u001b[0;34m\u001b[0m\n",
      "\u001b[0;32m/mnt/c/Users/HenkvandenBrink/repos/TEST-HOME-repos/python-hpc-introduction/.venv/lib/python3.8/site-packages/numba/core/dispatcher.py\u001b[0m in \u001b[0;36m_compile_for_args\u001b[0;34m(self, *args, **kws)\u001b[0m\n\u001b[1;32m    480\u001b[0m                 \u001b[0me\u001b[0m\u001b[0;34m.\u001b[0m\u001b[0mpatch_message\u001b[0m\u001b[0;34m(\u001b[0m\u001b[0mmsg\u001b[0m\u001b[0;34m)\u001b[0m\u001b[0;34m\u001b[0m\u001b[0;34m\u001b[0m\u001b[0m\n\u001b[1;32m    481\u001b[0m \u001b[0;34m\u001b[0m\u001b[0m\n\u001b[0;32m--> 482\u001b[0;31m             \u001b[0merror_rewrite\u001b[0m\u001b[0;34m(\u001b[0m\u001b[0me\u001b[0m\u001b[0;34m,\u001b[0m \u001b[0;34m'typing'\u001b[0m\u001b[0;34m)\u001b[0m\u001b[0;34m\u001b[0m\u001b[0;34m\u001b[0m\u001b[0m\n\u001b[0m\u001b[1;32m    483\u001b[0m         \u001b[0;32mexcept\u001b[0m \u001b[0merrors\u001b[0m\u001b[0;34m.\u001b[0m\u001b[0mUnsupportedError\u001b[0m \u001b[0;32mas\u001b[0m \u001b[0me\u001b[0m\u001b[0;34m:\u001b[0m\u001b[0;34m\u001b[0m\u001b[0;34m\u001b[0m\u001b[0m\n\u001b[1;32m    484\u001b[0m             \u001b[0;31m# Something unsupported is present in the user code, add help info\u001b[0m\u001b[0;34m\u001b[0m\u001b[0;34m\u001b[0m\u001b[0;34m\u001b[0m\u001b[0m\n",
      "\u001b[0;32m/mnt/c/Users/HenkvandenBrink/repos/TEST-HOME-repos/python-hpc-introduction/.venv/lib/python3.8/site-packages/numba/core/dispatcher.py\u001b[0m in \u001b[0;36merror_rewrite\u001b[0;34m(e, issue_type)\u001b[0m\n\u001b[1;32m    421\u001b[0m                 \u001b[0;32mraise\u001b[0m \u001b[0me\u001b[0m\u001b[0;34m\u001b[0m\u001b[0;34m\u001b[0m\u001b[0m\n\u001b[1;32m    422\u001b[0m             \u001b[0;32melse\u001b[0m\u001b[0;34m:\u001b[0m\u001b[0;34m\u001b[0m\u001b[0;34m\u001b[0m\u001b[0m\n\u001b[0;32m--> 423\u001b[0;31m                 \u001b[0;32mraise\u001b[0m \u001b[0me\u001b[0m\u001b[0;34m.\u001b[0m\u001b[0mwith_traceback\u001b[0m\u001b[0;34m(\u001b[0m\u001b[0;32mNone\u001b[0m\u001b[0;34m)\u001b[0m\u001b[0;34m\u001b[0m\u001b[0;34m\u001b[0m\u001b[0m\n\u001b[0m\u001b[1;32m    424\u001b[0m \u001b[0;34m\u001b[0m\u001b[0m\n\u001b[1;32m    425\u001b[0m         \u001b[0margtypes\u001b[0m \u001b[0;34m=\u001b[0m \u001b[0;34m[\u001b[0m\u001b[0;34m]\u001b[0m\u001b[0;34m\u001b[0m\u001b[0;34m\u001b[0m\u001b[0m\n",
      "\u001b[0;31mTypingError\u001b[0m: Failed in nopython mode pipeline (step: nopython frontend)\nInvalid use of BoundFunction(list.append for list(int64)<iv=None>) with parameters (Literal[str](1))\n\nDuring: resolving callee type: BoundFunction(list.append for list(int64)<iv=None>)\nDuring: typing of call at /tmp/ipykernel_1431/296268483.py (7)\n\n\nFile \"../../../../../../../../tmp/ipykernel_1431/296268483.py\", line 7:\n<source missing, REPL/exec in use?>\n"
     ]
    }
   ],
   "source": [
    "jitted_function = jit(nopython=True)(original_function)\n",
    "%time _ = jitted_function(test_array)"
   ]
  },
  {
   "cell_type": "code",
   "execution_count": 21,
   "id": "d3c7e4d6",
   "metadata": {},
   "outputs": [],
   "source": [
    "def jittable_function(input_list):\n",
    "    output_list = []\n",
    "    for item in input_list:\n",
    "        if item % 2 == 0:\n",
    "            output_list.append(2)\n",
    "        else:\n",
    "            output_list.append(1)\n",
    "    return output_list"
   ]
  },
  {
   "cell_type": "code",
   "execution_count": 23,
   "id": "fd1832c1",
   "metadata": {},
   "outputs": [
    {
     "name": "stderr",
     "output_type": "stream",
     "text": [
      "/mnt/c/Users/HenkvandenBrink/repos/TEST-HOME-repos/python-hpc-introduction/.venv/lib/python3.8/site-packages/numba/core/ir_utils.py:2139: NumbaPendingDeprecationWarning: \n",
      "Encountered the use of a type that is scheduled for deprecation: type 'reflected list' found for argument 'input_list' of function 'jittable_function'.\n",
      "\n",
      "For more information visit https://numba.pydata.org/numba-doc/latest/reference/deprecation.html#deprecation-of-reflection-for-list-and-set-types\n",
      "\n",
      "File \"../../../../../../../../tmp/ipykernel_1431/3903832665.py\", line 1:\n",
      "<source missing, REPL/exec in use?>\n",
      "\n",
      "  warnings.warn(NumbaPendingDeprecationWarning(msg, loc=loc))\n"
     ]
    },
    {
     "name": "stdout",
     "output_type": "stream",
     "text": [
      "CPU times: user 267 ms, sys: 0 ns, total: 267 ms\n",
      "Wall time: 271 ms\n"
     ]
    }
   ],
   "source": [
    "jitted_function = jit()(jittable_function)\n",
    "%time _ = jitted_function(test_array)"
   ]
  },
  {
   "cell_type": "code",
   "execution_count": 27,
   "id": "745ce18f",
   "metadata": {},
   "outputs": [],
   "source": [
    "test_array = np.arange(100000)\n",
    "\n",
    "@vectorize\n",
    "def vectorizable_function(value):\n",
    "    if value % 2 == 0:\n",
    "        return 2\n",
    "    else:\n",
    "        return 1\n"
   ]
  },
  {
   "cell_type": "code",
   "execution_count": 29,
   "id": "4597da7b",
   "metadata": {},
   "outputs": [
    {
     "name": "stdout",
     "output_type": "stream",
     "text": [
      "CPU times: user 1.19 ms, sys: 0 ns, total: 1.19 ms\n",
      "Wall time: 555 µs\n"
     ]
    }
   ],
   "source": [
    "%time _ = vectorizable_function(test_array)"
   ]
  },
  {
   "cell_type": "code",
   "execution_count": null,
   "id": "8c15dd6f",
   "metadata": {},
   "outputs": [],
   "source": []
  }
 ],
 "metadata": {
  "kernelspec": {
   "display_name": "Python 3 (ipykernel)",
   "language": "python",
   "name": "python3"
  },
  "language_info": {
   "codemirror_mode": {
    "name": "ipython",
    "version": 3
   },
   "file_extension": ".py",
   "mimetype": "text/x-python",
   "name": "python",
   "nbconvert_exporter": "python",
   "pygments_lexer": "ipython3",
   "version": "3.8.10"
  }
 },
 "nbformat": 4,
 "nbformat_minor": 5
}
